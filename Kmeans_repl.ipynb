{
 "cells": [
  {
   "cell_type": "code",
   "execution_count": 1,
   "metadata": {},
   "outputs": [],
   "source": [
    "import pandas as pd \n",
    "import numpy as np\n",
    "import random as rd\n",
    "from math import sqrt\n",
    "import matplotlib.pyplot as plt\n",
    "from mpl_toolkits import mplot3d"
   ]
  },
  {
   "cell_type": "code",
   "execution_count": 2,
   "metadata": {},
   "outputs": [],
   "source": [
    "df = pd.read_csv('https://raw.githubusercontent.com/machine-learning-course/syllabus/gh-pages/hiw-2019b/dataset-students-ml-2019b.csv')\n",
    "df['nim'] = df['nim'].astype(str)"
   ]
  },
  {
   "cell_type": "code",
   "execution_count": 3,
   "metadata": {
    "scrolled": true
   },
   "outputs": [],
   "source": [
    "#delete unused column\n",
    "df.drop(['gender','birth_city','birth_date','height','weight','religion'],axis=1,inplace=True)\n",
    "change = {\"dow_of_birth\": {\"Monday\":1, \"Tuesday\":2, \"Wednesday\":3, \"Thursday\":4, \"Friday\":5, \"Saturday\":6, \"Sunday\":7}}\n",
    "df.replace(change,inplace=True)"
   ]
  },
  {
   "cell_type": "code",
   "execution_count": 4,
   "metadata": {},
   "outputs": [
    {
     "data": {
      "text/plain": [
       "{'1': 25, '2': 34, '3': 53, '4': 12}"
      ]
     },
     "execution_count": 4,
     "metadata": {},
     "output_type": "execute_result"
    }
   ],
   "source": [
    "def centroid():\n",
    "    key = (\"1\",\"2\",\"3\",\"4\")\n",
    "    value = []\n",
    "    for x in range(4):\n",
    "        value.append(rd.randrange(0,65,1))\n",
    "    return dict(zip(key,value))\n",
    "\n",
    "centroid()"
   ]
  },
  {
   "cell_type": "code",
   "execution_count": 5,
   "metadata": {},
   "outputs": [],
   "source": [
    "def euclidean(centroid,key,data):\n",
    "#     print(type(df.loc[centroid[key]]['dow_of_birth']))\n",
    "#     print(type(data['dow_of_birth']))\n",
    "    \n",
    "    dow_birth = (df.loc[centroid[key]]['dow_of_birth'] - data['dow_of_birth'])**2\n",
    "    shoulder = (df.loc[centroid[key]]['shoulder_width'] - data['shoulder_width'])**2\n",
    "    shirt = (df.loc[centroid[key]]['shirt_height'] - data['shirt_height'])**2\n",
    "\n",
    "    return sqrt(dow_birth+shoulder+shirt)"
   ]
  },
  {
   "cell_type": "code",
   "execution_count": 6,
   "metadata": {},
   "outputs": [],
   "source": [
    "def Coordinate_Mean(lst):\n",
    "    \n",
    "#     coord[0] = [lst[0],lst[1],lst[2]]\n",
    "    lst[0] /= lst[3] if lst[3] > 0 else 0\n",
    "    lst[1] /= lst[3] if lst[3] > 0 else 0\n",
    "    lst[2] /= lst[3] if lst[3] > 0 else 0\n",
    "    \n",
    "    return [lst[0],lst[1],lst[2]]"
   ]
  },
  {
   "cell_type": "code",
   "execution_count": 7,
   "metadata": {},
   "outputs": [],
   "source": [
    "def NewCoordinate(kmeans_langkah1,data):\n",
    "    #cN = [dow_birth,shoulder,shirt,counter]\n",
    "    c1 = [0,0,0,0]\n",
    "    c2 = [0,0,0,0]\n",
    "    c3 = [0,0,0,0]\n",
    "    c4 = [0,0,0,0]\n",
    "    \n",
    "    \n",
    "    for x in range(len(kmeans_langkah1)):\n",
    "        a = kmeans_langkah1[x] \n",
    "        if a['cluster'] == '1':\n",
    "            c1[0] += data[data['nim'] == a['nim']]['dow_of_birth'].values[0]  #cari di dataframe yg nim nya = parameter, terus ambil value dari dow_of_birth\n",
    "            c1[1] += data[data['nim'] == a['nim']]['shoulder_width'].values[0]\n",
    "            c1[2] += data[data['nim'] == a['nim']]['shirt_height'].values[0]\n",
    "            c1[3] += 1\n",
    "        elif a['cluster'] == '2':\n",
    "            c2[0] += data[data['nim'] == a['nim']]['dow_of_birth'].values[0]\n",
    "            c2[1] += data[data['nim'] == a['nim']]['shoulder_width'].values[0]\n",
    "            c2[2] += data[data['nim'] == a['nim']]['shirt_height'].values[0]\n",
    "            c2[3] += 1\n",
    "        elif a['cluster'] == '3':\n",
    "            c3[0] += data[data['nim'] == a['nim']]['dow_of_birth'].values[0]\n",
    "            c3[1] += data[data['nim'] == a['nim']]['shoulder_width'].values[0]\n",
    "            c3[2] += data[data['nim'] == a['nim']]['shirt_height'].values[0]\n",
    "            c3[3] += 1\n",
    "        elif a['cluster'] == '4':\n",
    "            c4[0] += data[data['nim'] == a['nim']]['dow_of_birth'].values[0]\n",
    "            c4[1] += data[data['nim'] == a['nim']]['shoulder_width'].values[0]\n",
    "            c4[2] += data[data['nim'] == a['nim']]['shirt_height'].values[0]\n",
    "            c4[3] += 1\n",
    "    \n",
    "    return {\"1\": Coordinate_Mean(c1),\"2\": Coordinate_Mean(c2),\"3\": Coordinate_Mean(c3),\"4\": Coordinate_Mean(c4)}\n",
    "    "
   ]
  },
  {
   "cell_type": "code",
   "execution_count": 8,
   "metadata": {},
   "outputs": [],
   "source": [
    "def euclidean2(koordinat,data): #koordinat di loop buat cluster nya. koordinat[0]=c1, koordinat[1]=c2 ,... dst\n",
    "    \n",
    "    dow_birth = (koordinat[0] - data['dow_of_birth'])**2\n",
    "    shoulder = (koordinat[1] - data['shoulder_width'])**2\n",
    "    shirt = (koordinat[2] - data['shirt_height'])**2\n",
    "\n",
    "    return sqrt(dow_birth+shoulder+shirt)"
   ]
  },
  {
   "cell_type": "code",
   "execution_count": 9,
   "metadata": {},
   "outputs": [],
   "source": [
    "def Kmeans_1(df,ct):   \n",
    "    kunci = ('nim','cluster','distance')\n",
    "    temp_kmeans = []\n",
    "    \n",
    "    for idx in range(len(df)):\n",
    "        min1 = 999999\n",
    "        nim = ''\n",
    "        ctr = ''\n",
    "        temp_euclid = []\n",
    "\n",
    "        for key in ct:\n",
    "            hasil = euclidean(ct,key,df.loc[idx])\n",
    "            if hasil < min1:\n",
    "                min1 = hasil\n",
    "                nim = df.loc[idx]['nim']\n",
    "                ctr = key\n",
    "\n",
    "        temp_euclid.append(nim)\n",
    "        temp_euclid.append(ctr)        \n",
    "        temp_euclid.append(min1)\n",
    "\n",
    "        a = dict(zip(kunci,temp_euclid))\n",
    "\n",
    "        temp_kmeans.append(a)\n",
    "            \n",
    "    return temp_kmeans\n",
    "                "
   ]
  },
  {
   "cell_type": "code",
   "execution_count": 10,
   "metadata": {},
   "outputs": [],
   "source": [
    "def Kmeans_2(df,new_c):\n",
    "    kunci = ('nim','cluster','distance')\n",
    "    temp_kmeans = []\n",
    "    \n",
    "    for idx in range(len(df)):\n",
    "        min1 = 999999\n",
    "        nim = ''\n",
    "        ctr = ''\n",
    "        temp_euclid = []\n",
    "\n",
    "        for key in new_c:\n",
    "            hasil = euclidean2(new_c[key],df.loc[idx])\n",
    "            if hasil < min1:\n",
    "                min1 = hasil\n",
    "                nim = df.loc[idx]['nim']\n",
    "                ctr = key\n",
    "\n",
    "        temp_euclid.append(nim)\n",
    "        temp_euclid.append(ctr)        \n",
    "        temp_euclid.append(min1)\n",
    "\n",
    "        a = dict(zip(kunci,temp_euclid))\n",
    "\n",
    "        temp_kmeans.append(a)\n",
    "        \n",
    "    return temp_kmeans"
   ]
  },
  {
   "cell_type": "code",
   "execution_count": 11,
   "metadata": {},
   "outputs": [],
   "source": [
    "def Kmeans_main(df):\n",
    "    itr = 0\n",
    "    ct1 = centroid()\n",
    "    hasil1 = Kmeans_1(df,ct1)\n",
    "#     print(hasil1)\n",
    "    prev_ct = {}\n",
    "    ct2 = NewCoordinate(hasil1,df)\n",
    "#     print(ct2)\n",
    "    \n",
    "    while prev_ct!=ct2:\n",
    "#         itr+=1\n",
    "        prev_ct = ct2\n",
    "        hasil2 = Kmeans_2(df,ct2)\n",
    "        ct2 = NewCoordinate(hasil2,df)\n",
    "    \n",
    "#     print(\"itr = \",itr)\n",
    "    print('Model Code: E')\n",
    "    for x in hasil2:\n",
    "        print('%s,%s,%0.4f' % (x['nim'], x['cluster'], x['distance']))\n",
    "    \n",
    "#     fig = plt.figure()\n",
    "#     ax = fig.add_subplot(111, projection='3d')\n",
    "#     ax.scatter(ct2[0], ct2[1], ct2[2], marker='o')\n",
    "#     plt.show()"
   ]
  },
  {
   "cell_type": "code",
   "execution_count": 12,
   "metadata": {
    "scrolled": true
   },
   "outputs": [
    {
     "name": "stdout",
     "output_type": "stream",
     "text": [
      "Model Code: E\n",
      "1301174086,3,4.9537\n",
      "1301174381,4,1.8625\n",
      "1301174065,4,2.4976\n",
      "1301174440,4,7.7811\n",
      "1301174263,1,1.8477\n",
      "1301174113,4,5.0161\n",
      "1301174294,1,3.4517\n",
      "1301170504,4,7.7066\n",
      "1301160503,4,2.7188\n",
      "1301174313,4,4.7401\n",
      "1301174249,1,3.7469\n",
      "1301174542,4,3.9526\n",
      "1301174029,4,1.3615\n",
      "1301174046,4,4.5750\n",
      "1301170092,4,3.8440\n",
      "1301174111,2,6.1250\n",
      "1301174393,4,3.5420\n",
      "1301174020,1,2.1010\n",
      "1301174277,3,3.3969\n",
      "1301174300,4,3.8937\n",
      "1301173180,4,9.8492\n",
      "1301174144,3,6.2381\n",
      "1301174207,1,3.5411\n",
      "1301174227,1,3.0478\n",
      "1301174346,4,3.8640\n",
      "1301174161,3,3.0885\n",
      "1301174226,4,2.9625\n",
      "1301174011,1,4.7211\n",
      "1301174130,1,4.8774\n",
      "1301174401,4,4.3332\n",
      "1301170176,4,4.8206\n",
      "1301170421,4,4.4036\n",
      "1301174330,1,3.4517\n",
      "1301174360,4,5.6846\n",
      "1301170382,3,3.3785\n",
      "1301174178,3,6.2681\n",
      "1301174295,3,5.6933\n",
      "1301170012,3,4.3777\n",
      "1301170066,4,3.8839\n",
      "1301174228,4,4.3065\n",
      "1301174057,4,6.6280\n",
      "1301174230,2,0.5154\n",
      "1301174021,2,3.2811\n",
      "1301170505,3,5.8982\n",
      "1301174192,3,3.9578\n",
      "1301174145,4,5.6302\n",
      "1301174163,3,5.8021\n",
      "1301170435,2,5.7676\n",
      "1301170278,1,3.4877\n",
      "1301174182,2,5.0016\n",
      "1301174250,4,2.4510\n",
      "1301174597,1,4.9789\n",
      "1301174314,1,1.7071\n",
      "1301170116,1,7.0295\n",
      "1301174052,1,3.4877\n",
      "1301172537,2,3.1250\n",
      "1301170471,1,2.5078\n",
      "1301174112,2,7.3154\n",
      "1301174093,2,4.5569\n",
      "1301170301,4,6.7488\n",
      "1301164134,3,3.7966\n",
      "1301174264,3,3.2077\n",
      "1301164316,3,3.1881\n",
      "1301174131,3,2.1305\n",
      "1301170404,1,3.7469\n",
      "1301174030,3,3.0065\n"
     ]
    }
   ],
   "source": [
    "a = Kmeans_main(df)"
   ]
  }
 ],
 "metadata": {
  "kernelspec": {
   "display_name": "Python 3",
   "language": "python",
   "name": "python3"
  },
  "language_info": {
   "codemirror_mode": {
    "name": "ipython",
    "version": 3
   },
   "file_extension": ".py",
   "mimetype": "text/x-python",
   "name": "python",
   "nbconvert_exporter": "python",
   "pygments_lexer": "ipython3",
   "version": "3.7.3"
  }
 },
 "nbformat": 4,
 "nbformat_minor": 2
}
