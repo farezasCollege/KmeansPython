{
 "cells": [
  {
   "cell_type": "code",
   "execution_count": 1,
   "metadata": {},
   "outputs": [],
   "source": [
    "import pandas as pd \n",
    "import numpy as np\n",
    "import random as rd\n",
    "from math import sqrt"
   ]
  },
  {
   "cell_type": "code",
   "execution_count": 2,
   "metadata": {},
   "outputs": [],
   "source": [
    "df = pd.read_csv('https://raw.githubusercontent.com/machine-learning-course/syllabus/gh-pages/hiw-2019b/dataset-students-ml-2019b.csv')\n",
    "df['nim'] = df['nim'].astype(str)"
   ]
  },
  {
   "cell_type": "code",
   "execution_count": 3,
   "metadata": {
    "scrolled": true
   },
   "outputs": [],
   "source": [
    "#delete unused column\n",
    "df.drop(['gender','birth_city','birth_date','height','weight','religion'],axis=1,inplace=True)\n",
    "change = {\"dow_of_birth\": {\"Monday\":1, \"Tuesday\":2, \"Wednesday\":3, \"Thursday\":4, \"Friday\":5, \"Saturday\":6, \"Sunday\":7}}\n",
    "df.replace(change,inplace=True)"
   ]
  },
  {
   "cell_type": "code",
   "execution_count": 4,
   "metadata": {},
   "outputs": [
    {
     "data": {
      "text/plain": [
       "{'1': 16, '2': 19, '3': 16, '4': 14}"
      ]
     },
     "execution_count": 4,
     "metadata": {},
     "output_type": "execute_result"
    }
   ],
   "source": [
    "def centroid():\n",
    "    key = (\"1\",\"2\",\"3\",\"4\")\n",
    "    value = []\n",
    "    for x in range(4):\n",
    "        value.append(rd.randrange(0,65,1))\n",
    "    return dict(zip(key,value))\n",
    "\n",
    "centroid()"
   ]
  },
  {
   "cell_type": "code",
   "execution_count": 5,
   "metadata": {},
   "outputs": [],
   "source": [
    "def euclidean(centroid,key,data):\n",
    "#     print(type(df.loc[centroid[key]]['dow_of_birth']))\n",
    "#     print(type(data['dow_of_birth']))\n",
    "    \n",
    "    dow_birth = (df.loc[centroid[key]]['dow_of_birth'] - data['dow_of_birth'])**2\n",
    "    shoulder = (df.loc[centroid[key]]['shoulder_width'] - data['shoulder_width'])**2\n",
    "    shirt = (df.loc[centroid[key]]['shirt_height'] - data['shirt_height'])**2\n",
    "\n",
    "    return sqrt(dow_birth+shoulder+shirt)"
   ]
  },
  {
   "cell_type": "code",
   "execution_count": 6,
   "metadata": {},
   "outputs": [],
   "source": [
    "def Coordinate_Mean(lst):\n",
    "    \n",
    "#     coord[0] = [lst[0],lst[1],lst[2]]\n",
    "    lst[0] /= lst[3] if lst[3] > 0 else 0\n",
    "    lst[1] /= lst[3] if lst[3] > 0 else 0\n",
    "    lst[2] /= lst[3] if lst[3] > 0 else 0\n",
    "    \n",
    "    return [lst[0],lst[1],lst[2]]"
   ]
  },
  {
   "cell_type": "code",
   "execution_count": 7,
   "metadata": {},
   "outputs": [],
   "source": [
    "def NewCoordinate(kmeans_langkah1,data):\n",
    "    #cN = [dow_birth,shoulder,shirt,counter]\n",
    "    c1 = [0,0,0,0]\n",
    "    c2 = [0,0,0,0]\n",
    "    c3 = [0,0,0,0]\n",
    "    c4 = [0,0,0,0]\n",
    "    \n",
    "    \n",
    "    for x in range(len(kmeans_langkah1)):\n",
    "        a = kmeans_langkah1[x] \n",
    "        if a['cluster'] == '1':\n",
    "            c1[0] += data[data['nim'] == a['nim']]['dow_of_birth'].values[0]  #cari di dataframe yg nim nya = parameter, terus ambil value dari dow_of_birth\n",
    "            c1[1] += data[data['nim'] == a['nim']]['shoulder_width'].values[0]\n",
    "            c1[2] += data[data['nim'] == a['nim']]['shirt_height'].values[0]\n",
    "            c1[3] += 1\n",
    "        elif a['cluster'] == '2':\n",
    "            c2[0] += data[data['nim'] == a['nim']]['dow_of_birth'].values[0]\n",
    "            c2[1] += data[data['nim'] == a['nim']]['shoulder_width'].values[0]\n",
    "            c2[2] += data[data['nim'] == a['nim']]['shirt_height'].values[0]\n",
    "            c2[3] += 1\n",
    "        elif a['cluster'] == '3':\n",
    "            c3[0] += data[data['nim'] == a['nim']]['dow_of_birth'].values[0]\n",
    "            c3[1] += data[data['nim'] == a['nim']]['shoulder_width'].values[0]\n",
    "            c3[2] += data[data['nim'] == a['nim']]['shirt_height'].values[0]\n",
    "            c3[3] += 1\n",
    "        elif a['cluster'] == '4':\n",
    "            c4[0] += data[data['nim'] == a['nim']]['dow_of_birth'].values[0]\n",
    "            c4[1] += data[data['nim'] == a['nim']]['shoulder_width'].values[0]\n",
    "            c4[2] += data[data['nim'] == a['nim']]['shirt_height'].values[0]\n",
    "            c4[3] += 1\n",
    "    \n",
    "    return {\"1\": Coordinate_Mean(c1),\"2\": Coordinate_Mean(c2),\"3\": Coordinate_Mean(c3),\"4\": Coordinate_Mean(c4)}\n",
    "    "
   ]
  },
  {
   "cell_type": "code",
   "execution_count": 8,
   "metadata": {},
   "outputs": [],
   "source": [
    "def euclidean2(koordinat,data): #koordinat di loop buat cluster nya. koordinat[0]=c1, koordinat[1]=c2 ,... dst\n",
    "    \n",
    "    dow_birth = (koordinat[0] - data['dow_of_birth'])**2\n",
    "    shoulder = (koordinat[1] - data['shoulder_width'])**2\n",
    "    shirt = (koordinat[2] - data['shirt_height'])**2\n",
    "\n",
    "    return sqrt(dow_birth+shoulder+shirt)"
   ]
  },
  {
   "cell_type": "code",
   "execution_count": 9,
   "metadata": {},
   "outputs": [],
   "source": [
    "def Kmeans_1(df,ct):   \n",
    "    kunci = ('nim','cluster','distance')\n",
    "    temp_kmeans = []\n",
    "    \n",
    "    for idx in range(len(df)):\n",
    "        min1 = 999999\n",
    "        nim = ''\n",
    "        ctr = ''\n",
    "        temp_euclid = []\n",
    "\n",
    "        for key in ct:\n",
    "            hasil = euclidean(ct,key,df.loc[idx])\n",
    "            if hasil < min1:\n",
    "                min1 = hasil\n",
    "                nim = df.loc[idx]['nim']\n",
    "                ctr = key\n",
    "\n",
    "        temp_euclid.append(nim)\n",
    "        temp_euclid.append(ctr)        \n",
    "        temp_euclid.append(min1)\n",
    "\n",
    "        a = dict(zip(kunci,temp_euclid))\n",
    "\n",
    "        temp_kmeans.append(a)\n",
    "            \n",
    "    return temp_kmeans\n",
    "                "
   ]
  },
  {
   "cell_type": "code",
   "execution_count": 10,
   "metadata": {},
   "outputs": [],
   "source": [
    "def Kmeans_2(df,new_c):\n",
    "    kunci = ('nim','cluster','distance')\n",
    "    temp_kmeans = []\n",
    "    \n",
    "    for idx in range(len(df)):\n",
    "        min1 = 999999\n",
    "        nim = ''\n",
    "        ctr = ''\n",
    "        temp_euclid = []\n",
    "\n",
    "        for key in new_c:\n",
    "            hasil = euclidean2(new_c[key],df.loc[idx])\n",
    "            if hasil < min1:\n",
    "                min1 = hasil\n",
    "                nim = df.loc[idx]['nim']\n",
    "                ctr = key\n",
    "\n",
    "        temp_euclid.append(nim)\n",
    "        temp_euclid.append(ctr)        \n",
    "        temp_euclid.append(min1)\n",
    "\n",
    "        a = dict(zip(kunci,temp_euclid))\n",
    "\n",
    "        temp_kmeans.append(a)\n",
    "        \n",
    "    return temp_kmeans"
   ]
  },
  {
   "cell_type": "code",
   "execution_count": 13,
   "metadata": {},
   "outputs": [],
   "source": [
    "#Kmeans using 4 centroid\n",
    "def Kmeans_main(df):\n",
    "    itr = 0\n",
    "    ct1 = centroid()\n",
    "    hasil1 = Kmeans_1(df,ct1)\n",
    "    prev_ct = {}\n",
    "    ct2 = NewCoordinate(hasil1,df)\n",
    "    \n",
    "    while prev_ct!=ct2:\n",
    "        prev_ct = ct2\n",
    "        hasil2 = Kmeans_2(df,ct2)\n",
    "        ct2 = NewCoordinate(hasil2,df)\n",
    "\n",
    "    for x in hasil2:\n",
    "        print('%s,%s,%0.4f' % (x['nim'], x['cluster'], x['distance']))\n",
    "    \n",
    "    #print nim, cluster, and distance of a point to its centroid\n"
   ]
  },
  {
   "cell_type": "code",
   "execution_count": 14,
   "metadata": {
    "scrolled": true
   },
   "outputs": [
    {
     "name": "stdout",
     "output_type": "stream",
     "text": [
      "1301174086,2,4.9537\n",
      "1301174381,1,1.7504\n",
      "1301174065,1,2.9496\n",
      "1301174440,1,7.0948\n",
      "1301174263,3,2.2372\n",
      "1301174113,3,4.4164\n",
      "1301174294,3,3.5504\n",
      "1301170504,1,7.6853\n",
      "1301160503,1,2.7913\n",
      "1301174313,1,4.3033\n",
      "1301174249,3,4.3249\n",
      "1301174542,3,3.8085\n",
      "1301174029,1,1.6433\n",
      "1301174046,1,4.7262\n",
      "1301170092,1,3.9509\n",
      "1301174111,4,6.1250\n",
      "1301174393,1,3.6144\n",
      "1301174020,3,1.2268\n",
      "1301174277,2,3.3969\n",
      "1301174300,1,3.3805\n",
      "1301173180,1,9.8889\n",
      "1301174144,2,6.2381\n",
      "1301174207,3,4.2550\n",
      "1301174227,3,3.2411\n",
      "1301174346,1,4.1088\n",
      "1301174161,2,3.0885\n",
      "1301174226,1,3.0407\n",
      "1301174011,3,5.4868\n",
      "1301174130,3,5.6218\n",
      "1301174401,1,4.9148\n",
      "1301170176,1,4.7069\n",
      "1301170421,3,4.0006\n",
      "1301174330,3,3.0008\n",
      "1301174360,3,5.9586\n",
      "1301170382,2,3.3785\n",
      "1301174178,2,6.2681\n",
      "1301174295,2,5.6933\n",
      "1301170012,2,4.3777\n",
      "1301170066,1,4.1746\n",
      "1301174228,1,4.8402\n",
      "1301174057,1,6.1475\n",
      "1301174230,4,0.5154\n",
      "1301174021,4,3.2811\n",
      "1301170505,2,5.8982\n",
      "1301174192,2,3.9578\n",
      "1301174145,1,5.0245\n",
      "1301174163,2,5.8021\n",
      "1301170435,4,5.7676\n",
      "1301170278,3,3.8865\n",
      "1301174182,4,5.0016\n",
      "1301174250,1,2.7585\n",
      "1301174597,3,4.6373\n",
      "1301174314,3,1.0977\n",
      "1301170116,3,6.7974\n",
      "1301174052,3,3.2101\n",
      "1301172537,4,3.1250\n",
      "1301170471,3,2.2594\n",
      "1301174112,4,7.3154\n",
      "1301174093,4,4.5569\n",
      "1301170301,1,6.5762\n",
      "1301164134,2,3.7966\n",
      "1301174264,2,3.2077\n",
      "1301164316,2,3.1881\n",
      "1301174131,2,2.1305\n",
      "1301170404,3,3.4358\n",
      "1301174030,2,3.0065\n"
     ]
    }
   ],
   "source": [
    "a = Kmeans_main(df)"
   ]
  }
 ],
 "metadata": {
  "kernelspec": {
   "display_name": "Python 3",
   "language": "python",
   "name": "python3"
  },
  "language_info": {
   "codemirror_mode": {
    "name": "ipython",
    "version": 3
   },
   "file_extension": ".py",
   "mimetype": "text/x-python",
   "name": "python",
   "nbconvert_exporter": "python",
   "pygments_lexer": "ipython3",
   "version": "3.7.6"
  }
 },
 "nbformat": 4,
 "nbformat_minor": 2
}
